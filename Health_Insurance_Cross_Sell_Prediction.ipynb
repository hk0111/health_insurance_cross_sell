{
 "cells": [
  {
   "cell_type": "markdown",
   "id": "cf3cdcab",
   "metadata": {},
   "source": [
    "# <center>Health Insurance Cross Sell Prediction</center>"
   ]
  },
  {
   "cell_type": "code",
   "execution_count": 1,
   "id": "3f09468e",
   "metadata": {},
   "outputs": [],
   "source": [
    "from sklearn.metrics import roc_auc_score, classification_report, confusion_matrix\n",
    "from sklearn.model_selection import train_test_split\n",
    "from sklearn.linear_model import LogisticRegression\n",
    "from sklearn.neighbors import KNeighborsClassifier\n",
    "from sklearn.ensemble import RandomForestClassifier\n",
    "from sklearn.preprocessing import StandardScaler\n",
    "from sklearn.pipeline import Pipeline\n",
    "import numpy as np\n",
    "import pandas as pd\n",
    "import matplotlib.pyplot as plt\n",
    "import seaborn as sns\n",
    "sns.set()\n",
    "\n",
    "%matplotlib inline"
   ]
  },
  {
   "cell_type": "markdown",
   "id": "6b32fce3",
   "metadata": {},
   "source": [
    "## Section 1: Business Understanding"
   ]
  },
  {
   "cell_type": "markdown",
   "id": "40e01589",
   "metadata": {},
   "source": [
    "An insurance company that has provided Health Insurance Products to its customer wants to expand its business to Vehicle Insurance. It needs to build a model to predict whether customers from the past year are interested in its new Vehicle Insurance Products to plan for marketing strategies. First, we will analyze how some variables are related to customers' interests. Then, we will build a machine learning model to classify whether a customer is interested. Customers forecasted to be interested in this product will become the target market and receive ads promoting this product."
   ]
  },
  {
   "cell_type": "markdown",
   "id": "0542057f",
   "metadata": {},
   "source": [
    "### Question 1: How do 'Previously Insured' and 'Vehicle Damage' indicators correlate with customers' interest in this new vehicle insurance?"
   ]
  },
  {
   "cell_type": "markdown",
   "id": "4db7f320",
   "metadata": {},
   "source": [
    "### Question 2: Are older customers more interested in vehicle insurance than newer customers?"
   ]
  },
  {
   "cell_type": "markdown",
   "id": "f87528f2",
   "metadata": {},
   "source": [
    "### Question 3: How well we can predict customers' interests based on customer data?"
   ]
  },
  {
   "cell_type": "markdown",
   "id": "1c68ef1f",
   "metadata": {},
   "source": [
    "- 'Previously Insured' -> whether the customer already has Vehicle Insurance from another company\n",
    "- 'Vehicle Damage' -> wheter customer got his/her vehicle damaged in the past"
   ]
  },
  {
   "cell_type": "markdown",
   "id": "063f1079",
   "metadata": {},
   "source": [
    "## Section 2: Data Understanding"
   ]
  },
  {
   "cell_type": "markdown",
   "id": "7921b375",
   "metadata": {},
   "source": [
    "### Gather"
   ]
  },
  {
   "cell_type": "code",
   "execution_count": 2,
   "id": "df98030e",
   "metadata": {},
   "outputs": [
    {
     "data": {
      "text/html": [
       "<div>\n",
       "<style scoped>\n",
       "    .dataframe tbody tr th:only-of-type {\n",
       "        vertical-align: middle;\n",
       "    }\n",
       "\n",
       "    .dataframe tbody tr th {\n",
       "        vertical-align: top;\n",
       "    }\n",
       "\n",
       "    .dataframe thead th {\n",
       "        text-align: right;\n",
       "    }\n",
       "</style>\n",
       "<table border=\"1\" class=\"dataframe\">\n",
       "  <thead>\n",
       "    <tr style=\"text-align: right;\">\n",
       "      <th></th>\n",
       "      <th>id</th>\n",
       "      <th>Gender</th>\n",
       "      <th>Age</th>\n",
       "      <th>Driving_License</th>\n",
       "      <th>Region_Code</th>\n",
       "      <th>Previously_Insured</th>\n",
       "      <th>Vehicle_Age</th>\n",
       "      <th>Vehicle_Damage</th>\n",
       "      <th>Annual_Premium</th>\n",
       "      <th>Policy_Sales_Channel</th>\n",
       "      <th>Vintage</th>\n",
       "      <th>Response</th>\n",
       "    </tr>\n",
       "  </thead>\n",
       "  <tbody>\n",
       "    <tr>\n",
       "      <th>0</th>\n",
       "      <td>1</td>\n",
       "      <td>Male</td>\n",
       "      <td>44</td>\n",
       "      <td>1</td>\n",
       "      <td>28.0</td>\n",
       "      <td>0</td>\n",
       "      <td>&gt; 2 Years</td>\n",
       "      <td>Yes</td>\n",
       "      <td>40454.0</td>\n",
       "      <td>26.0</td>\n",
       "      <td>217</td>\n",
       "      <td>1</td>\n",
       "    </tr>\n",
       "    <tr>\n",
       "      <th>1</th>\n",
       "      <td>2</td>\n",
       "      <td>Male</td>\n",
       "      <td>76</td>\n",
       "      <td>1</td>\n",
       "      <td>3.0</td>\n",
       "      <td>0</td>\n",
       "      <td>1-2 Year</td>\n",
       "      <td>No</td>\n",
       "      <td>33536.0</td>\n",
       "      <td>26.0</td>\n",
       "      <td>183</td>\n",
       "      <td>0</td>\n",
       "    </tr>\n",
       "    <tr>\n",
       "      <th>2</th>\n",
       "      <td>3</td>\n",
       "      <td>Male</td>\n",
       "      <td>47</td>\n",
       "      <td>1</td>\n",
       "      <td>28.0</td>\n",
       "      <td>0</td>\n",
       "      <td>&gt; 2 Years</td>\n",
       "      <td>Yes</td>\n",
       "      <td>38294.0</td>\n",
       "      <td>26.0</td>\n",
       "      <td>27</td>\n",
       "      <td>1</td>\n",
       "    </tr>\n",
       "    <tr>\n",
       "      <th>3</th>\n",
       "      <td>4</td>\n",
       "      <td>Male</td>\n",
       "      <td>21</td>\n",
       "      <td>1</td>\n",
       "      <td>11.0</td>\n",
       "      <td>1</td>\n",
       "      <td>&lt; 1 Year</td>\n",
       "      <td>No</td>\n",
       "      <td>28619.0</td>\n",
       "      <td>152.0</td>\n",
       "      <td>203</td>\n",
       "      <td>0</td>\n",
       "    </tr>\n",
       "    <tr>\n",
       "      <th>4</th>\n",
       "      <td>5</td>\n",
       "      <td>Female</td>\n",
       "      <td>29</td>\n",
       "      <td>1</td>\n",
       "      <td>41.0</td>\n",
       "      <td>1</td>\n",
       "      <td>&lt; 1 Year</td>\n",
       "      <td>No</td>\n",
       "      <td>27496.0</td>\n",
       "      <td>152.0</td>\n",
       "      <td>39</td>\n",
       "      <td>0</td>\n",
       "    </tr>\n",
       "  </tbody>\n",
       "</table>\n",
       "</div>"
      ],
      "text/plain": [
       "   id  Gender  Age  Driving_License  Region_Code  Previously_Insured  \\\n",
       "0   1    Male   44                1         28.0                   0   \n",
       "1   2    Male   76                1          3.0                   0   \n",
       "2   3    Male   47                1         28.0                   0   \n",
       "3   4    Male   21                1         11.0                   1   \n",
       "4   5  Female   29                1         41.0                   1   \n",
       "\n",
       "  Vehicle_Age Vehicle_Damage  Annual_Premium  Policy_Sales_Channel  Vintage  \\\n",
       "0   > 2 Years            Yes         40454.0                  26.0      217   \n",
       "1    1-2 Year             No         33536.0                  26.0      183   \n",
       "2   > 2 Years            Yes         38294.0                  26.0       27   \n",
       "3    < 1 Year             No         28619.0                 152.0      203   \n",
       "4    < 1 Year             No         27496.0                 152.0       39   \n",
       "\n",
       "   Response  \n",
       "0         1  \n",
       "1         0  \n",
       "2         1  \n",
       "3         0  \n",
       "4         0  "
      ]
     },
     "execution_count": 2,
     "metadata": {},
     "output_type": "execute_result"
    }
   ],
   "source": [
    "df = pd.read_csv('train.csv')\n",
    "df.head()"
   ]
  },
  {
   "cell_type": "markdown",
   "id": "2a984c4b",
   "metadata": {},
   "source": [
    "### Explore"
   ]
  },
  {
   "cell_type": "code",
   "execution_count": 3,
   "id": "3d9527ba",
   "metadata": {},
   "outputs": [
    {
     "data": {
      "text/html": [
       "<div>\n",
       "<style scoped>\n",
       "    .dataframe tbody tr th:only-of-type {\n",
       "        vertical-align: middle;\n",
       "    }\n",
       "\n",
       "    .dataframe tbody tr th {\n",
       "        vertical-align: top;\n",
       "    }\n",
       "\n",
       "    .dataframe thead th {\n",
       "        text-align: right;\n",
       "    }\n",
       "</style>\n",
       "<table border=\"1\" class=\"dataframe\">\n",
       "  <thead>\n",
       "    <tr style=\"text-align: right;\">\n",
       "      <th></th>\n",
       "      <th>Gender</th>\n",
       "      <th>Age</th>\n",
       "      <th>Driving_License</th>\n",
       "      <th>Region_Code</th>\n",
       "      <th>Previously_Insured</th>\n",
       "      <th>Vehicle_Age</th>\n",
       "      <th>Vehicle_Damage</th>\n",
       "      <th>Annual_Premium</th>\n",
       "      <th>Policy_Sales_Channel</th>\n",
       "      <th>Vintage</th>\n",
       "      <th>Response</th>\n",
       "    </tr>\n",
       "    <tr>\n",
       "      <th>id</th>\n",
       "      <th></th>\n",
       "      <th></th>\n",
       "      <th></th>\n",
       "      <th></th>\n",
       "      <th></th>\n",
       "      <th></th>\n",
       "      <th></th>\n",
       "      <th></th>\n",
       "      <th></th>\n",
       "      <th></th>\n",
       "      <th></th>\n",
       "    </tr>\n",
       "  </thead>\n",
       "  <tbody>\n",
       "    <tr>\n",
       "      <th>1</th>\n",
       "      <td>Male</td>\n",
       "      <td>44</td>\n",
       "      <td>1</td>\n",
       "      <td>28.0</td>\n",
       "      <td>0</td>\n",
       "      <td>&gt; 2 Years</td>\n",
       "      <td>Yes</td>\n",
       "      <td>40454.0</td>\n",
       "      <td>26.0</td>\n",
       "      <td>217</td>\n",
       "      <td>1</td>\n",
       "    </tr>\n",
       "    <tr>\n",
       "      <th>2</th>\n",
       "      <td>Male</td>\n",
       "      <td>76</td>\n",
       "      <td>1</td>\n",
       "      <td>3.0</td>\n",
       "      <td>0</td>\n",
       "      <td>1-2 Year</td>\n",
       "      <td>No</td>\n",
       "      <td>33536.0</td>\n",
       "      <td>26.0</td>\n",
       "      <td>183</td>\n",
       "      <td>0</td>\n",
       "    </tr>\n",
       "    <tr>\n",
       "      <th>3</th>\n",
       "      <td>Male</td>\n",
       "      <td>47</td>\n",
       "      <td>1</td>\n",
       "      <td>28.0</td>\n",
       "      <td>0</td>\n",
       "      <td>&gt; 2 Years</td>\n",
       "      <td>Yes</td>\n",
       "      <td>38294.0</td>\n",
       "      <td>26.0</td>\n",
       "      <td>27</td>\n",
       "      <td>1</td>\n",
       "    </tr>\n",
       "    <tr>\n",
       "      <th>4</th>\n",
       "      <td>Male</td>\n",
       "      <td>21</td>\n",
       "      <td>1</td>\n",
       "      <td>11.0</td>\n",
       "      <td>1</td>\n",
       "      <td>&lt; 1 Year</td>\n",
       "      <td>No</td>\n",
       "      <td>28619.0</td>\n",
       "      <td>152.0</td>\n",
       "      <td>203</td>\n",
       "      <td>0</td>\n",
       "    </tr>\n",
       "    <tr>\n",
       "      <th>5</th>\n",
       "      <td>Female</td>\n",
       "      <td>29</td>\n",
       "      <td>1</td>\n",
       "      <td>41.0</td>\n",
       "      <td>1</td>\n",
       "      <td>&lt; 1 Year</td>\n",
       "      <td>No</td>\n",
       "      <td>27496.0</td>\n",
       "      <td>152.0</td>\n",
       "      <td>39</td>\n",
       "      <td>0</td>\n",
       "    </tr>\n",
       "  </tbody>\n",
       "</table>\n",
       "</div>"
      ],
      "text/plain": [
       "    Gender  Age  Driving_License  Region_Code  Previously_Insured Vehicle_Age  \\\n",
       "id                                                                              \n",
       "1     Male   44                1         28.0                   0   > 2 Years   \n",
       "2     Male   76                1          3.0                   0    1-2 Year   \n",
       "3     Male   47                1         28.0                   0   > 2 Years   \n",
       "4     Male   21                1         11.0                   1    < 1 Year   \n",
       "5   Female   29                1         41.0                   1    < 1 Year   \n",
       "\n",
       "   Vehicle_Damage  Annual_Premium  Policy_Sales_Channel  Vintage  Response  \n",
       "id                                                                          \n",
       "1             Yes         40454.0                  26.0      217         1  \n",
       "2              No         33536.0                  26.0      183         0  \n",
       "3             Yes         38294.0                  26.0       27         1  \n",
       "4              No         28619.0                 152.0      203         0  \n",
       "5              No         27496.0                 152.0       39         0  "
      ]
     },
     "execution_count": 3,
     "metadata": {},
     "output_type": "execute_result"
    }
   ],
   "source": [
    "# Set id as index\n",
    "df.set_index('id', inplace=True)\n",
    "df.head()"
   ]
  },
  {
   "cell_type": "code",
   "execution_count": 4,
   "id": "d0baf77d",
   "metadata": {},
   "outputs": [
    {
     "data": {
      "text/plain": [
       "Gender                  0\n",
       "Age                     0\n",
       "Driving_License         0\n",
       "Region_Code             0\n",
       "Previously_Insured      0\n",
       "Vehicle_Age             0\n",
       "Vehicle_Damage          0\n",
       "Annual_Premium          0\n",
       "Policy_Sales_Channel    0\n",
       "Vintage                 0\n",
       "Response                0\n",
       "dtype: int64"
      ]
     },
     "execution_count": 4,
     "metadata": {},
     "output_type": "execute_result"
    }
   ],
   "source": [
    "# Check for missing values\n",
    "df.isna().sum()"
   ]
  },
  {
   "cell_type": "markdown",
   "id": "fe6589c9",
   "metadata": {},
   "source": [
    "No missing values in the dataset."
   ]
  },
  {
   "cell_type": "code",
   "execution_count": 5,
   "id": "466ccd7c",
   "metadata": {},
   "outputs": [
    {
     "data": {
      "text/html": [
       "<div>\n",
       "<style scoped>\n",
       "    .dataframe tbody tr th:only-of-type {\n",
       "        vertical-align: middle;\n",
       "    }\n",
       "\n",
       "    .dataframe tbody tr th {\n",
       "        vertical-align: top;\n",
       "    }\n",
       "\n",
       "    .dataframe thead th {\n",
       "        text-align: right;\n",
       "    }\n",
       "</style>\n",
       "<table border=\"1\" class=\"dataframe\">\n",
       "  <thead>\n",
       "    <tr style=\"text-align: right;\">\n",
       "      <th></th>\n",
       "      <th>Age</th>\n",
       "      <th>Driving_License</th>\n",
       "      <th>Region_Code</th>\n",
       "      <th>Previously_Insured</th>\n",
       "      <th>Annual_Premium</th>\n",
       "      <th>Policy_Sales_Channel</th>\n",
       "      <th>Vintage</th>\n",
       "      <th>Response</th>\n",
       "    </tr>\n",
       "  </thead>\n",
       "  <tbody>\n",
       "    <tr>\n",
       "      <th>count</th>\n",
       "      <td>381109.000000</td>\n",
       "      <td>381109.000000</td>\n",
       "      <td>381109.000000</td>\n",
       "      <td>381109.000000</td>\n",
       "      <td>381109.000000</td>\n",
       "      <td>381109.000000</td>\n",
       "      <td>381109.000000</td>\n",
       "      <td>381109.000000</td>\n",
       "    </tr>\n",
       "    <tr>\n",
       "      <th>mean</th>\n",
       "      <td>38.822584</td>\n",
       "      <td>0.997869</td>\n",
       "      <td>26.388807</td>\n",
       "      <td>0.458210</td>\n",
       "      <td>30564.389581</td>\n",
       "      <td>112.034295</td>\n",
       "      <td>154.347397</td>\n",
       "      <td>0.122563</td>\n",
       "    </tr>\n",
       "    <tr>\n",
       "      <th>std</th>\n",
       "      <td>15.511611</td>\n",
       "      <td>0.046110</td>\n",
       "      <td>13.229888</td>\n",
       "      <td>0.498251</td>\n",
       "      <td>17213.155057</td>\n",
       "      <td>54.203995</td>\n",
       "      <td>83.671304</td>\n",
       "      <td>0.327936</td>\n",
       "    </tr>\n",
       "    <tr>\n",
       "      <th>min</th>\n",
       "      <td>20.000000</td>\n",
       "      <td>0.000000</td>\n",
       "      <td>0.000000</td>\n",
       "      <td>0.000000</td>\n",
       "      <td>2630.000000</td>\n",
       "      <td>1.000000</td>\n",
       "      <td>10.000000</td>\n",
       "      <td>0.000000</td>\n",
       "    </tr>\n",
       "    <tr>\n",
       "      <th>25%</th>\n",
       "      <td>25.000000</td>\n",
       "      <td>1.000000</td>\n",
       "      <td>15.000000</td>\n",
       "      <td>0.000000</td>\n",
       "      <td>24405.000000</td>\n",
       "      <td>29.000000</td>\n",
       "      <td>82.000000</td>\n",
       "      <td>0.000000</td>\n",
       "    </tr>\n",
       "    <tr>\n",
       "      <th>50%</th>\n",
       "      <td>36.000000</td>\n",
       "      <td>1.000000</td>\n",
       "      <td>28.000000</td>\n",
       "      <td>0.000000</td>\n",
       "      <td>31669.000000</td>\n",
       "      <td>133.000000</td>\n",
       "      <td>154.000000</td>\n",
       "      <td>0.000000</td>\n",
       "    </tr>\n",
       "    <tr>\n",
       "      <th>75%</th>\n",
       "      <td>49.000000</td>\n",
       "      <td>1.000000</td>\n",
       "      <td>35.000000</td>\n",
       "      <td>1.000000</td>\n",
       "      <td>39400.000000</td>\n",
       "      <td>152.000000</td>\n",
       "      <td>227.000000</td>\n",
       "      <td>0.000000</td>\n",
       "    </tr>\n",
       "    <tr>\n",
       "      <th>max</th>\n",
       "      <td>85.000000</td>\n",
       "      <td>1.000000</td>\n",
       "      <td>52.000000</td>\n",
       "      <td>1.000000</td>\n",
       "      <td>540165.000000</td>\n",
       "      <td>163.000000</td>\n",
       "      <td>299.000000</td>\n",
       "      <td>1.000000</td>\n",
       "    </tr>\n",
       "  </tbody>\n",
       "</table>\n",
       "</div>"
      ],
      "text/plain": [
       "                 Age  Driving_License    Region_Code  Previously_Insured  \\\n",
       "count  381109.000000    381109.000000  381109.000000       381109.000000   \n",
       "mean       38.822584         0.997869      26.388807            0.458210   \n",
       "std        15.511611         0.046110      13.229888            0.498251   \n",
       "min        20.000000         0.000000       0.000000            0.000000   \n",
       "25%        25.000000         1.000000      15.000000            0.000000   \n",
       "50%        36.000000         1.000000      28.000000            0.000000   \n",
       "75%        49.000000         1.000000      35.000000            1.000000   \n",
       "max        85.000000         1.000000      52.000000            1.000000   \n",
       "\n",
       "       Annual_Premium  Policy_Sales_Channel        Vintage       Response  \n",
       "count   381109.000000         381109.000000  381109.000000  381109.000000  \n",
       "mean     30564.389581            112.034295     154.347397       0.122563  \n",
       "std      17213.155057             54.203995      83.671304       0.327936  \n",
       "min       2630.000000              1.000000      10.000000       0.000000  \n",
       "25%      24405.000000             29.000000      82.000000       0.000000  \n",
       "50%      31669.000000            133.000000     154.000000       0.000000  \n",
       "75%      39400.000000            152.000000     227.000000       0.000000  \n",
       "max     540165.000000            163.000000     299.000000       1.000000  "
      ]
     },
     "execution_count": 5,
     "metadata": {},
     "output_type": "execute_result"
    }
   ],
   "source": [
    "df.describe()"
   ]
  },
  {
   "cell_type": "markdown",
   "id": "25c2ff6c",
   "metadata": {},
   "source": [
    "There are several categorical variables included such as `Region_Code` and `Policy_Sales_Channel` because they are encoded as integer (although they have float dtype, we must fix it later)"
   ]
  },
  {
   "cell_type": "code",
   "execution_count": 6,
   "id": "b723bea5",
   "metadata": {},
   "outputs": [
    {
     "data": {
      "text/html": [
       "<div>\n",
       "<style scoped>\n",
       "    .dataframe tbody tr th:only-of-type {\n",
       "        vertical-align: middle;\n",
       "    }\n",
       "\n",
       "    .dataframe tbody tr th {\n",
       "        vertical-align: top;\n",
       "    }\n",
       "\n",
       "    .dataframe thead th {\n",
       "        text-align: right;\n",
       "    }\n",
       "</style>\n",
       "<table border=\"1\" class=\"dataframe\">\n",
       "  <thead>\n",
       "    <tr style=\"text-align: right;\">\n",
       "      <th></th>\n",
       "      <th>Age</th>\n",
       "      <th>Driving_License</th>\n",
       "      <th>Region_Code</th>\n",
       "      <th>Previously_Insured</th>\n",
       "      <th>Annual_Premium</th>\n",
       "      <th>Policy_Sales_Channel</th>\n",
       "      <th>Vintage</th>\n",
       "      <th>Response</th>\n",
       "    </tr>\n",
       "  </thead>\n",
       "  <tbody>\n",
       "    <tr>\n",
       "      <th>Age</th>\n",
       "      <td>1.000000</td>\n",
       "      <td>-0.079782</td>\n",
       "      <td>0.042574</td>\n",
       "      <td>-0.254682</td>\n",
       "      <td>0.067507</td>\n",
       "      <td>-0.577826</td>\n",
       "      <td>-0.001264</td>\n",
       "      <td>0.111147</td>\n",
       "    </tr>\n",
       "    <tr>\n",
       "      <th>Driving_License</th>\n",
       "      <td>-0.079782</td>\n",
       "      <td>1.000000</td>\n",
       "      <td>-0.001081</td>\n",
       "      <td>0.014969</td>\n",
       "      <td>-0.011906</td>\n",
       "      <td>0.043731</td>\n",
       "      <td>-0.000848</td>\n",
       "      <td>0.010155</td>\n",
       "    </tr>\n",
       "    <tr>\n",
       "      <th>Region_Code</th>\n",
       "      <td>0.042574</td>\n",
       "      <td>-0.001081</td>\n",
       "      <td>1.000000</td>\n",
       "      <td>-0.024659</td>\n",
       "      <td>-0.010588</td>\n",
       "      <td>-0.042420</td>\n",
       "      <td>-0.002750</td>\n",
       "      <td>0.010570</td>\n",
       "    </tr>\n",
       "    <tr>\n",
       "      <th>Previously_Insured</th>\n",
       "      <td>-0.254682</td>\n",
       "      <td>0.014969</td>\n",
       "      <td>-0.024659</td>\n",
       "      <td>1.000000</td>\n",
       "      <td>0.004269</td>\n",
       "      <td>0.219381</td>\n",
       "      <td>0.002537</td>\n",
       "      <td>-0.341170</td>\n",
       "    </tr>\n",
       "    <tr>\n",
       "      <th>Annual_Premium</th>\n",
       "      <td>0.067507</td>\n",
       "      <td>-0.011906</td>\n",
       "      <td>-0.010588</td>\n",
       "      <td>0.004269</td>\n",
       "      <td>1.000000</td>\n",
       "      <td>-0.113247</td>\n",
       "      <td>-0.000608</td>\n",
       "      <td>0.022575</td>\n",
       "    </tr>\n",
       "    <tr>\n",
       "      <th>Policy_Sales_Channel</th>\n",
       "      <td>-0.577826</td>\n",
       "      <td>0.043731</td>\n",
       "      <td>-0.042420</td>\n",
       "      <td>0.219381</td>\n",
       "      <td>-0.113247</td>\n",
       "      <td>1.000000</td>\n",
       "      <td>0.000002</td>\n",
       "      <td>-0.139042</td>\n",
       "    </tr>\n",
       "    <tr>\n",
       "      <th>Vintage</th>\n",
       "      <td>-0.001264</td>\n",
       "      <td>-0.000848</td>\n",
       "      <td>-0.002750</td>\n",
       "      <td>0.002537</td>\n",
       "      <td>-0.000608</td>\n",
       "      <td>0.000002</td>\n",
       "      <td>1.000000</td>\n",
       "      <td>-0.001050</td>\n",
       "    </tr>\n",
       "    <tr>\n",
       "      <th>Response</th>\n",
       "      <td>0.111147</td>\n",
       "      <td>0.010155</td>\n",
       "      <td>0.010570</td>\n",
       "      <td>-0.341170</td>\n",
       "      <td>0.022575</td>\n",
       "      <td>-0.139042</td>\n",
       "      <td>-0.001050</td>\n",
       "      <td>1.000000</td>\n",
       "    </tr>\n",
       "  </tbody>\n",
       "</table>\n",
       "</div>"
      ],
      "text/plain": [
       "                           Age  Driving_License  Region_Code  \\\n",
       "Age                   1.000000        -0.079782     0.042574   \n",
       "Driving_License      -0.079782         1.000000    -0.001081   \n",
       "Region_Code           0.042574        -0.001081     1.000000   \n",
       "Previously_Insured   -0.254682         0.014969    -0.024659   \n",
       "Annual_Premium        0.067507        -0.011906    -0.010588   \n",
       "Policy_Sales_Channel -0.577826         0.043731    -0.042420   \n",
       "Vintage              -0.001264        -0.000848    -0.002750   \n",
       "Response              0.111147         0.010155     0.010570   \n",
       "\n",
       "                      Previously_Insured  Annual_Premium  \\\n",
       "Age                            -0.254682        0.067507   \n",
       "Driving_License                 0.014969       -0.011906   \n",
       "Region_Code                    -0.024659       -0.010588   \n",
       "Previously_Insured              1.000000        0.004269   \n",
       "Annual_Premium                  0.004269        1.000000   \n",
       "Policy_Sales_Channel            0.219381       -0.113247   \n",
       "Vintage                         0.002537       -0.000608   \n",
       "Response                       -0.341170        0.022575   \n",
       "\n",
       "                      Policy_Sales_Channel   Vintage  Response  \n",
       "Age                              -0.577826 -0.001264  0.111147  \n",
       "Driving_License                   0.043731 -0.000848  0.010155  \n",
       "Region_Code                      -0.042420 -0.002750  0.010570  \n",
       "Previously_Insured                0.219381  0.002537 -0.341170  \n",
       "Annual_Premium                   -0.113247 -0.000608  0.022575  \n",
       "Policy_Sales_Channel              1.000000  0.000002 -0.139042  \n",
       "Vintage                           0.000002  1.000000 -0.001050  \n",
       "Response                         -0.139042 -0.001050  1.000000  "
      ]
     },
     "execution_count": 6,
     "metadata": {},
     "output_type": "execute_result"
    }
   ],
   "source": [
    "df.corr()"
   ]
  },
  {
   "cell_type": "code",
   "execution_count": 7,
   "id": "51437c58",
   "metadata": {},
   "outputs": [
    {
     "data": {
      "text/plain": [
       "Male      206089\n",
       "Female    175020\n",
       "Name: Gender, dtype: int64"
      ]
     },
     "execution_count": 7,
     "metadata": {},
     "output_type": "execute_result"
    }
   ],
   "source": [
    "# Check gender distribution\n",
    "df['Gender'].value_counts()"
   ]
  },
  {
   "cell_type": "markdown",
   "id": "e09578b0",
   "metadata": {},
   "source": [
    "The number of males is slightly higher than females"
   ]
  },
  {
   "cell_type": "code",
   "execution_count": 8,
   "id": "964ce885",
   "metadata": {
    "scrolled": true
   },
   "outputs": [
    {
     "data": {
      "image/png": "[encoded data removed]",
      "text/plain": [
       "<Figure size 432x288 with 1 Axes>"
      ]
     },
     "metadata": {
      "needs_background": "light"
     },
     "output_type": "display_data"
    }
   ],
   "source": [
    "# Check distribution of customer's age\n",
    "# by using histogram\n",
    "df['Age'].hist(bins=np.arange(20, 90, 5))  # adjust bin width to 5\n",
    "plt.title(\"Customers' Age Distribution\", size=16)\n",
    "plt.xlabel('Age (years)')\n",
    "plt.ylabel('Total');"
   ]
  },
  {
   "cell_type": "markdown",
   "id": "670ab91c",
   "metadata": {},
   "source": [
    "Dominated by young (20-30 years) and middle-aged (40-50 years) customers (bimodal distribution)"
   ]
  },
  {
   "cell_type": "code",
   "execution_count": 9,
   "id": "569158ba",
   "metadata": {},
   "outputs": [
    {
     "data": {
      "text/plain": [
       "Driving_License\n",
       "0    0.050493\n",
       "1    0.122717\n",
       "Name: Response, dtype: float64"
      ]
     },
     "execution_count": 9,
     "metadata": {},
     "output_type": "execute_result"
    }
   ],
   "source": [
    "# Check the proportion of customers interested based on driving license ownership\n",
    "df.groupby('Driving_License')['Response'].mean()"
   ]
  },
  {
   "cell_type": "markdown",
   "id": "b4bcf982",
   "metadata": {},
   "source": [
    "Only 0.3% of customers don't have a driving license. However, customers with no driving license tend to be not interested in vehicle insurance so, we will keep this column for prediction."
   ]
  },
  {
   "cell_type": "code",
   "execution_count": 10,
   "id": "8f848528",
   "metadata": {},
   "outputs": [
    {
     "data": {
      "text/plain": [
       "53"
      ]
     },
     "execution_count": 10,
     "metadata": {},
     "output_type": "execute_result"
    }
   ],
   "source": [
    "df['Region_Code'].nunique()  # There are 53 unique values of region_code"
   ]
  },
  {
   "cell_type": "code",
   "execution_count": 11,
   "id": "e4d64c5c",
   "metadata": {
    "scrolled": true
   },
   "outputs": [
    {
     "data": {
      "text/plain": [
       "Region_Code\n",
       "38.0    0.192004\n",
       "28.0    0.187163\n",
       "19.0    0.162866\n",
       "4.0     0.158245\n",
       "23.0    0.153061\n",
       "51.0    0.153005\n",
       "24.0    0.141615\n",
       "7.0     0.131747\n",
       "18.0    0.131574\n",
       "3.0     0.127662\n",
       "35.0    0.124604\n",
       "39.0    0.123600\n",
       "52.0    0.123596\n",
       "29.0    0.123362\n",
       "41.0    0.121776\n",
       "40.0    0.118147\n",
       "5.0     0.115715\n",
       "20.0    0.115245\n",
       "11.0    0.112760\n",
       "45.0    0.109723\n",
       "1.0     0.108135\n",
       "46.0    0.102891\n",
       "48.0    0.101901\n",
       "31.0    0.100510\n",
       "33.0    0.099294\n",
       "12.0    0.097561\n",
       "8.0     0.096142\n",
       "43.0    0.092459\n",
       "14.0    0.090209\n",
       "13.0    0.090188\n",
       "47.0    0.087682\n",
       "0.0     0.086096\n",
       "32.0    0.085755\n",
       "9.0     0.081587\n",
       "36.0    0.079914\n",
       "37.0    0.079258\n",
       "34.0    0.075721\n",
       "49.0    0.074782\n",
       "42.0    0.074450\n",
       "27.0    0.074035\n",
       "30.0    0.073825\n",
       "26.0    0.072284\n",
       "15.0    0.071987\n",
       "2.0     0.071075\n",
       "21.0    0.071027\n",
       "17.0    0.070310\n",
       "6.0     0.069904\n",
       "16.0    0.066766\n",
       "22.0    0.063407\n",
       "50.0    0.062677\n",
       "10.0    0.060128\n",
       "25.0    0.042749\n",
       "44.0    0.040842\n",
       "Name: Response, dtype: float64"
      ]
     },
     "execution_count": 11,
     "metadata": {},
     "output_type": "execute_result"
    }
   ],
   "source": [
    "# Group Response by Region_Code, aggregated by mean\n",
    "df.groupby('Region_Code')['Response'].mean().sort_values(ascending=False)"
   ]
  },
  {
   "cell_type": "markdown",
   "id": "96cba655",
   "metadata": {},
   "source": [
    "There are noticeable differences in customer interested proportion based on `Region_Code`. Because this variable is categorical, we will use dummies to encode this variable in the next section."
   ]
  },
  {
   "cell_type": "code",
   "execution_count": 12,
   "id": "ef6f1b36",
   "metadata": {
    "scrolled": true
   },
   "outputs": [
    {
     "data": {
      "text/plain": [
       "0    206481\n",
       "1    174628\n",
       "Name: Previously_Insured, dtype: int64"
      ]
     },
     "execution_count": 12,
     "metadata": {},
     "output_type": "execute_result"
    }
   ],
   "source": [
    "df['Previously_Insured'].value_counts()"
   ]
  },
  {
   "cell_type": "markdown",
   "id": "7f8c1d45",
   "metadata": {},
   "source": [
    "Number of customers not having vehicle insurance is higher, presenting an opportunity for the company."
   ]
  },
  {
   "cell_type": "code",
   "execution_count": 13,
   "id": "84627bbd",
   "metadata": {},
   "outputs": [
    {
     "data": {
      "text/plain": [
       "1-2 Year     200316\n",
       "< 1 Year     164786\n",
       "> 2 Years     16007\n",
       "Name: Vehicle_Age, dtype: int64"
      ]
     },
     "execution_count": 13,
     "metadata": {},
     "output_type": "execute_result"
    }
   ],
   "source": [
    "# Most customers' vehicle age is less than 2 years\n",
    "df['Vehicle_Age'].value_counts()"
   ]
  },
  {
   "cell_type": "code",
   "execution_count": 14,
   "id": "b7de47de",
   "metadata": {},
   "outputs": [
    {
     "data": {
      "text/plain": [
       "Yes    192413\n",
       "No     188696\n",
       "Name: Vehicle_Damage, dtype: int64"
      ]
     },
     "execution_count": 14,
     "metadata": {},
     "output_type": "execute_result"
    }
   ],
   "source": [
    "df['Vehicle_Damage'].value_counts()  "
   ]
  },
  {
   "cell_type": "markdown",
   "id": "c3e3790f",
   "metadata": {},
   "source": [
    "No significant differences between the number of customers that have experienced vehicle damage."
   ]
  },
  {
   "cell_type": "code",
   "execution_count": 15,
   "id": "50b97b2a",
   "metadata": {},
   "outputs": [
    {
     "data": {
      "text/html": [
       "<div>\n",
       "<style scoped>\n",
       "    .dataframe tbody tr th:only-of-type {\n",
       "        vertical-align: middle;\n",
       "    }\n",
       "\n",
       "    .dataframe tbody tr th {\n",
       "        vertical-align: top;\n",
       "    }\n",
       "\n",
       "    .dataframe thead th {\n",
       "        text-align: right;\n",
       "    }\n",
       "</style>\n",
       "<table border=\"1\" class=\"dataframe\">\n",
       "  <thead>\n",
       "    <tr style=\"text-align: right;\">\n",
       "      <th>Vehicle_Damage</th>\n",
       "      <th>No</th>\n",
       "      <th>Yes</th>\n",
       "    </tr>\n",
       "    <tr>\n",
       "      <th>Vehicle_Age</th>\n",
       "      <th></th>\n",
       "      <th></th>\n",
       "    </tr>\n",
       "  </thead>\n",
       "  <tbody>\n",
       "    <tr>\n",
       "      <th>1-2 Year</th>\n",
       "      <td>72091</td>\n",
       "      <td>128225</td>\n",
       "    </tr>\n",
       "    <tr>\n",
       "      <th>&lt; 1 Year</th>\n",
       "      <td>116590</td>\n",
       "      <td>48196</td>\n",
       "    </tr>\n",
       "    <tr>\n",
       "      <th>&gt; 2 Years</th>\n",
       "      <td>15</td>\n",
       "      <td>15992</td>\n",
       "    </tr>\n",
       "  </tbody>\n",
       "</table>\n",
       "</div>"
      ],
      "text/plain": [
       "Vehicle_Damage      No     Yes\n",
       "Vehicle_Age                   \n",
       "1-2 Year         72091  128225\n",
       "< 1 Year        116590   48196\n",
       "> 2 Years           15   15992"
      ]
     },
     "execution_count": 15,
     "metadata": {},
     "output_type": "execute_result"
    }
   ],
   "source": [
    "vehicle_age_damage = df[['Vehicle_Age',\n",
    "                         'Vehicle_Damage']].value_counts().unstack()  # Count values\n",
    "vehicle_age_damage"
   ]
  },
  {
   "cell_type": "code",
   "execution_count": 16,
   "id": "d03e35e0",
   "metadata": {},
   "outputs": [
    {
     "data": {
      "text/html": [
       "<div>\n",
       "<style scoped>\n",
       "    .dataframe tbody tr th:only-of-type {\n",
       "        vertical-align: middle;\n",
       "    }\n",
       "\n",
       "    .dataframe tbody tr th {\n",
       "        vertical-align: top;\n",
       "    }\n",
       "\n",
       "    .dataframe thead th {\n",
       "        text-align: right;\n",
       "    }\n",
       "</style>\n",
       "<table border=\"1\" class=\"dataframe\">\n",
       "  <thead>\n",
       "    <tr style=\"text-align: right;\">\n",
       "      <th>Vehicle_Damage</th>\n",
       "      <th>Yes</th>\n",
       "      <th>No</th>\n",
       "    </tr>\n",
       "    <tr>\n",
       "      <th>Vehicle_Age</th>\n",
       "      <th></th>\n",
       "      <th></th>\n",
       "    </tr>\n",
       "  </thead>\n",
       "  <tbody>\n",
       "    <tr>\n",
       "      <th>&lt; 1 Year</th>\n",
       "      <td>48196</td>\n",
       "      <td>116590</td>\n",
       "    </tr>\n",
       "    <tr>\n",
       "      <th>1-2 Year</th>\n",
       "      <td>128225</td>\n",
       "      <td>72091</td>\n",
       "    </tr>\n",
       "    <tr>\n",
       "      <th>&gt; 2 Years</th>\n",
       "      <td>15992</td>\n",
       "      <td>15</td>\n",
       "    </tr>\n",
       "  </tbody>\n",
       "</table>\n",
       "</div>"
      ],
      "text/plain": [
       "Vehicle_Damage     Yes      No\n",
       "Vehicle_Age                   \n",
       "< 1 Year         48196  116590\n",
       "1-2 Year        128225   72091\n",
       "> 2 Years        15992      15"
      ]
     },
     "execution_count": 16,
     "metadata": {},
     "output_type": "execute_result"
    }
   ],
   "source": [
    "vehicle_age_damage = vehicle_age_damage.iloc[[1, 0, 2],\n",
    "                                             [1, 0]]  # Reorder rows and columns\n",
    "vehicle_age_damage"
   ]
  },
  {
   "cell_type": "code",
   "execution_count": 17,
   "id": "fe26c127",
   "metadata": {},
   "outputs": [
    {
     "data": {
      "text/html": [
       "<div>\n",
       "<style scoped>\n",
       "    .dataframe tbody tr th:only-of-type {\n",
       "        vertical-align: middle;\n",
       "    }\n",
       "\n",
       "    .dataframe tbody tr th {\n",
       "        vertical-align: top;\n",
       "    }\n",
       "\n",
       "    .dataframe thead th {\n",
       "        text-align: right;\n",
       "    }\n",
       "</style>\n",
       "<table border=\"1\" class=\"dataframe\">\n",
       "  <thead>\n",
       "    <tr style=\"text-align: right;\">\n",
       "      <th>Vehicle_Damage</th>\n",
       "      <th>Yes</th>\n",
       "      <th>No</th>\n",
       "      <th>yes_prop</th>\n",
       "    </tr>\n",
       "    <tr>\n",
       "      <th>Vehicle_Age</th>\n",
       "      <th></th>\n",
       "      <th></th>\n",
       "      <th></th>\n",
       "    </tr>\n",
       "  </thead>\n",
       "  <tbody>\n",
       "    <tr>\n",
       "      <th>&lt; 1 Year</th>\n",
       "      <td>48196</td>\n",
       "      <td>116590</td>\n",
       "      <td>0.292476</td>\n",
       "    </tr>\n",
       "    <tr>\n",
       "      <th>1-2 Year</th>\n",
       "      <td>128225</td>\n",
       "      <td>72091</td>\n",
       "      <td>0.640114</td>\n",
       "    </tr>\n",
       "    <tr>\n",
       "      <th>&gt; 2 Years</th>\n",
       "      <td>15992</td>\n",
       "      <td>15</td>\n",
       "      <td>0.999063</td>\n",
       "    </tr>\n",
       "  </tbody>\n",
       "</table>\n",
       "</div>"
      ],
      "text/plain": [
       "Vehicle_Damage     Yes      No  yes_prop\n",
       "Vehicle_Age                             \n",
       "< 1 Year         48196  116590  0.292476\n",
       "1-2 Year        128225   72091  0.640114\n",
       "> 2 Years        15992      15  0.999063"
      ]
     },
     "execution_count": 17,
     "metadata": {},
     "output_type": "execute_result"
    }
   ],
   "source": [
    "vehicle_age_damage.eval('yes_prop = Yes / (Yes+No)',\n",
    "                        inplace=True)  # Calculate vehicle damage proportion\n",
    "vehicle_age_damage"
   ]
  },
  {
   "cell_type": "code",
   "execution_count": 18,
   "id": "8859ddb0",
   "metadata": {
    "scrolled": true
   },
   "outputs": [
    {
     "data": {
      "image/png": "[encoded data removed]",
      "text/plain": [
       "<Figure size 432x288 with 1 Axes>"
      ]
     },
     "metadata": {
      "needs_background": "light"
     },
     "output_type": "display_data"
    }
   ],
   "source": [
    "vehicle_age_damage['yes_prop'].plot(kind='bar')\n",
    "plt.xticks(rotation=30)\n",
    "plt.xlabel('Vehicle Age')\n",
    "plt.title('Proportion of Customers That Have Experienced Vehicle Damage', size=16);"
   ]
  },
  {
   "cell_type": "markdown",
   "id": "115fc939",
   "metadata": {},
   "source": [
    "There are positive correlations between vehicle age and vehicle damage experience. The older the vehicle, the more likely it has got damaged."
   ]
  },
  {
   "cell_type": "code",
   "execution_count": 19,
   "id": "50aee574",
   "metadata": {},
   "outputs": [
    {
     "data": {
      "text/plain": [
       "Vehicle_Damage\n",
       "No     0.005204\n",
       "Yes    0.237655\n",
       "Name: Response, dtype: float64"
      ]
     },
     "execution_count": 19,
     "metadata": {},
     "output_type": "execute_result"
    }
   ],
   "source": [
    "# Calculate the proportion of customer interested grouped by Vehicle_Damage\n",
    "df.groupby('Vehicle_Damage')['Response'].mean()"
   ]
  },
  {
   "cell_type": "code",
   "execution_count": 20,
   "id": "a5488b02",
   "metadata": {},
   "outputs": [
    {
     "data": {
      "text/plain": [
       "Previously_Insured\n",
       "0    0.225454\n",
       "1    0.000905\n",
       "Name: Response, dtype: float64"
      ]
     },
     "execution_count": 20,
     "metadata": {},
     "output_type": "execute_result"
    }
   ],
   "source": [
    "# Calculate the proportion of customer interested grouped by Previously_Insured\n",
    "df.groupby('Previously_Insured')['Response'].mean()"
   ]
  },
  {
   "cell_type": "code",
   "execution_count": 21,
   "id": "6f94b1ec",
   "metadata": {},
   "outputs": [
    {
     "data": {
      "image/png": "[encoded data removed]",
      "text/plain": [
       "<Figure size 432x288 with 2 Axes>"
      ]
     },
     "metadata": {
      "needs_background": "light"
     },
     "output_type": "display_data"
    }
   ],
   "source": [
    "# Create Pivot table with Previously_Insured and Vehicle_Damage as grouping variables\n",
    "insured__vehicle_damage = df.pivot_table('Response',\n",
    "                                         index='Previously_Insured',\n",
    "                                         columns='Vehicle_Damage')\n",
    "insured__vehicle_damage.rename(index={0: 'No', 1: 'Yes'}, inplace=True)\n",
    "sns.heatmap(insured__vehicle_damage, annot=True, fmt='.4f')\n",
    "plt.title('Proportion of Customers Interested', size=16);"
   ]
  },
  {
   "cell_type": "markdown",
   "id": "789e3a45",
   "metadata": {},
   "source": [
    "From 3 cells above, customer that does not have vehicle insurance but have experienced vehicle damage are most likely to be interested in vehicle insurance product."
   ]
  },
  {
   "cell_type": "code",
   "execution_count": 22,
   "id": "4f99f3f2",
   "metadata": {},
   "outputs": [
    {
     "data": {
      "text/plain": [
       "155"
      ]
     },
     "execution_count": 22,
     "metadata": {},
     "output_type": "execute_result"
    }
   ],
   "source": [
    "df['Policy_Sales_Channel'].nunique()  # Count unique values in the column"
   ]
  },
  {
   "cell_type": "code",
   "execution_count": 23,
   "id": "4d3d0cbe",
   "metadata": {},
   "outputs": [
    {
     "data": {
      "text/plain": [
       "152.0    134784\n",
       "26.0      79700\n",
       "124.0     73995\n",
       "160.0     21779\n",
       "156.0     10661\n",
       "          ...  \n",
       "149.0         1\n",
       "143.0         1\n",
       "43.0          1\n",
       "41.0          1\n",
       "84.0          1\n",
       "Name: Policy_Sales_Channel, Length: 155, dtype: int64"
      ]
     },
     "execution_count": 23,
     "metadata": {},
     "output_type": "execute_result"
    }
   ],
   "source": [
    "sales_channel_count = df['Policy_Sales_Channel'].value_counts()\n",
    "sales_channel_count"
   ]
  },
  {
   "cell_type": "markdown",
   "id": "a0090c91",
   "metadata": {},
   "source": [
    "There are 155 unique policy sales channels listed, with sales channel 152 is the most common channel for outreaching the customer."
   ]
  },
  {
   "cell_type": "code",
   "execution_count": 24,
   "id": "68295590",
   "metadata": {
    "scrolled": true
   },
   "outputs": [
    {
     "data": {
      "image/png": "[encoded data removed]",
      "text/plain": [
       "<Figure size 432x288 with 1 Axes>"
      ]
     },
     "metadata": {
      "needs_background": "light"
     },
     "output_type": "display_data"
    }
   ],
   "source": [
    "# Check the distribution of vintage (number of days customer has been associated with the company)\n",
    "df['Vintage'].hist()\n",
    "plt.title('Distribution of Vintage', size=16)\n",
    "plt.xlabel('Vintage (days)');"
   ]
  },
  {
   "cell_type": "markdown",
   "id": "e0631c87",
   "metadata": {},
   "source": [
    "Distribution of vintage is approximately uniform"
   ]
  },
  {
   "cell_type": "code",
   "execution_count": 25,
   "id": "ec1cc789",
   "metadata": {},
   "outputs": [
    {
     "data": {
      "image/png": "[encoded data removed]",
      "text/plain": [
       "<Figure size 432x288 with 1 Axes>"
      ]
     },
     "metadata": {
      "needs_background": "light"
     },
     "output_type": "display_data"
    }
   ],
   "source": [
    "def plot_vintage_mean_response(df=df, bins=10):\n",
    "    '''\n",
    "    Plot the proportion of customer interested for every bin defined by vintage\n",
    "\n",
    "    INPUT:\n",
    "    df - pandas dataframe\n",
    "    bins - number of bins\n",
    "\n",
    "    OUTPUT:\n",
    "    histograms\n",
    "    '''\n",
    "\n",
    "    xmin, xmax = df['Vintage'].min(), df['Vintage'].max()\n",
    "\n",
    "    total_counts, bins = np.histogram(df['Vintage'],\n",
    "                                      bins=bins, range=(xmin, xmax))\n",
    "    yes_counts, _ = np.histogram(df['Vintage']*df['Response'],\n",
    "                                 bins=bins, range=(xmin, xmax))\n",
    "\n",
    "    plt.hist(bins[:-1], bins[1:], weights=yes_counts/total_counts)\n",
    "    plt.title('Proportion of Customers Interested', size=16)\n",
    "    plt.xlabel('Vintage (days)')\n",
    "\n",
    "    return None\n",
    "\n",
    "\n",
    "plot_vintage_mean_response()"
   ]
  },
  {
   "cell_type": "code",
   "execution_count": 26,
   "id": "a75a0542",
   "metadata": {
    "scrolled": true
   },
   "outputs": [
    {
     "data": {
      "image/png": "[encoded data removed]",
      "text/plain": [
       "<Figure size 432x288 with 1 Axes>"
      ]
     },
     "metadata": {
      "needs_background": "light"
     },
     "output_type": "display_data"
    }
   ],
   "source": [
    "plot_vintage_mean_response(bins=30)"
   ]
  },
  {
   "cell_type": "markdown",
   "id": "e4703c26",
   "metadata": {},
   "source": [
    "The proportion of customer interested in every bin is approximately equal. Furthermore, the absolute value of correlation between response and vintage is the lowest compared to other varibales. Hence, vintage is not a good predictor variable for response and we should consider to drop it."
   ]
  },
  {
   "cell_type": "code",
   "execution_count": 27,
   "id": "491daea6",
   "metadata": {},
   "outputs": [
    {
     "data": {
      "image/png": "[encoded data removed]",
      "text/plain": [
       "<Figure size 432x288 with 1 Axes>"
      ]
     },
     "metadata": {
      "needs_background": "light"
     },
     "output_type": "display_data"
    }
   ],
   "source": [
    "# The distribution of Annual Premium is right-skewed\n",
    "df['Annual_Premium'].hist(bins = 60)\n",
    "plt.title('Distribution of Annual Premium', size=16)\n",
    "plt.xlabel('Annual Premium');"
   ]
  },
  {
   "cell_type": "code",
   "execution_count": 28,
   "id": "0fea0986",
   "metadata": {
    "scrolled": true
   },
   "outputs": [
    {
     "data": {
      "image/png": "[encoded data removed]",
      "text/plain": [
       "<Figure size 432x288 with 1 Axes>"
      ]
     },
     "metadata": {
      "needs_background": "light"
     },
     "output_type": "display_data"
    }
   ],
   "source": [
    "df['Annual_Premium'].plot(kind = 'hist', range = (0, 150000), bins = 40)\n",
    "plt.title('Distribution of Annual Premium', size=16)\n",
    "plt.xlabel('Annual Premium');"
   ]
  },
  {
   "cell_type": "markdown",
   "id": "ad56c855",
   "metadata": {},
   "source": [
    "It seems there are outliers, let's check it out"
   ]
  },
  {
   "cell_type": "code",
   "execution_count": 29,
   "id": "016d6776",
   "metadata": {},
   "outputs": [
    {
     "data": {
      "text/plain": [
       "2630.0    64877\n",
       "7670.0        1\n",
       "6098.0        1\n",
       "9792.0        1\n",
       "8739.0        1\n",
       "9816.0        1\n",
       "Name: Annual_Premium, dtype: int64"
      ]
     },
     "execution_count": 29,
     "metadata": {},
     "output_type": "execute_result"
    }
   ],
   "source": [
    "df.loc[df['Annual_Premium'] <= 10000, 'Annual_Premium'].value_counts()"
   ]
  },
  {
   "cell_type": "code",
   "execution_count": 30,
   "id": "fb6eb2f6",
   "metadata": {},
   "outputs": [
    {
     "data": {
      "text/html": [
       "<div>\n",
       "<style scoped>\n",
       "    .dataframe tbody tr th:only-of-type {\n",
       "        vertical-align: middle;\n",
       "    }\n",
       "\n",
       "    .dataframe tbody tr th {\n",
       "        vertical-align: top;\n",
       "    }\n",
       "\n",
       "    .dataframe thead th {\n",
       "        text-align: right;\n",
       "    }\n",
       "</style>\n",
       "<table border=\"1\" class=\"dataframe\">\n",
       "  <thead>\n",
       "    <tr style=\"text-align: right;\">\n",
       "      <th></th>\n",
       "      <th>Gender</th>\n",
       "      <th>Age</th>\n",
       "      <th>Driving_License</th>\n",
       "      <th>Region_Code</th>\n",
       "      <th>Previously_Insured</th>\n",
       "      <th>Vehicle_Age</th>\n",
       "      <th>Vehicle_Damage</th>\n",
       "      <th>Annual_Premium</th>\n",
       "      <th>Policy_Sales_Channel</th>\n",
       "      <th>Vintage</th>\n",
       "      <th>Response</th>\n",
       "    </tr>\n",
       "    <tr>\n",
       "      <th>id</th>\n",
       "      <th></th>\n",
       "      <th></th>\n",
       "      <th></th>\n",
       "      <th></th>\n",
       "      <th></th>\n",
       "      <th></th>\n",
       "      <th></th>\n",
       "      <th></th>\n",
       "      <th></th>\n",
       "      <th></th>\n",
       "      <th></th>\n",
       "    </tr>\n",
       "  </thead>\n",
       "  <tbody>\n",
       "    <tr>\n",
       "      <th>6</th>\n",
       "      <td>Female</td>\n",
       "      <td>24</td>\n",
       "      <td>1</td>\n",
       "      <td>33.0</td>\n",
       "      <td>0</td>\n",
       "      <td>&lt; 1 Year</td>\n",
       "      <td>Yes</td>\n",
       "      <td>2630.0</td>\n",
       "      <td>160.0</td>\n",
       "      <td>176</td>\n",
       "      <td>0</td>\n",
       "    </tr>\n",
       "    <tr>\n",
       "      <th>16</th>\n",
       "      <td>Male</td>\n",
       "      <td>37</td>\n",
       "      <td>1</td>\n",
       "      <td>6.0</td>\n",
       "      <td>0</td>\n",
       "      <td>1-2 Year</td>\n",
       "      <td>Yes</td>\n",
       "      <td>2630.0</td>\n",
       "      <td>156.0</td>\n",
       "      <td>147</td>\n",
       "      <td>1</td>\n",
       "    </tr>\n",
       "    <tr>\n",
       "      <th>31</th>\n",
       "      <td>Female</td>\n",
       "      <td>26</td>\n",
       "      <td>1</td>\n",
       "      <td>8.0</td>\n",
       "      <td>0</td>\n",
       "      <td>&lt; 1 Year</td>\n",
       "      <td>No</td>\n",
       "      <td>2630.0</td>\n",
       "      <td>160.0</td>\n",
       "      <td>136</td>\n",
       "      <td>0</td>\n",
       "    </tr>\n",
       "    <tr>\n",
       "      <th>44</th>\n",
       "      <td>Female</td>\n",
       "      <td>38</td>\n",
       "      <td>1</td>\n",
       "      <td>35.0</td>\n",
       "      <td>1</td>\n",
       "      <td>1-2 Year</td>\n",
       "      <td>No</td>\n",
       "      <td>2630.0</td>\n",
       "      <td>152.0</td>\n",
       "      <td>153</td>\n",
       "      <td>0</td>\n",
       "    </tr>\n",
       "    <tr>\n",
       "      <th>59</th>\n",
       "      <td>Female</td>\n",
       "      <td>62</td>\n",
       "      <td>1</td>\n",
       "      <td>48.0</td>\n",
       "      <td>0</td>\n",
       "      <td>1-2 Year</td>\n",
       "      <td>Yes</td>\n",
       "      <td>2630.0</td>\n",
       "      <td>15.0</td>\n",
       "      <td>295</td>\n",
       "      <td>0</td>\n",
       "    </tr>\n",
       "  </tbody>\n",
       "</table>\n",
       "</div>"
      ],
      "text/plain": [
       "    Gender  Age  Driving_License  Region_Code  Previously_Insured Vehicle_Age  \\\n",
       "id                                                                              \n",
       "6   Female   24                1         33.0                   0    < 1 Year   \n",
       "16    Male   37                1          6.0                   0    1-2 Year   \n",
       "31  Female   26                1          8.0                   0    < 1 Year   \n",
       "44  Female   38                1         35.0                   1    1-2 Year   \n",
       "59  Female   62                1         48.0                   0    1-2 Year   \n",
       "\n",
       "   Vehicle_Damage  Annual_Premium  Policy_Sales_Channel  Vintage  Response  \n",
       "id                                                                          \n",
       "6             Yes          2630.0                 160.0      176         0  \n",
       "16            Yes          2630.0                 156.0      147         1  \n",
       "31             No          2630.0                 160.0      136         0  \n",
       "44             No          2630.0                 152.0      153         0  \n",
       "59            Yes          2630.0                  15.0      295         0  "
      ]
     },
     "execution_count": 30,
     "metadata": {},
     "output_type": "execute_result"
    }
   ],
   "source": [
    "# Check the data where annual premium = 2630\n",
    "outliers_df = df[df['Annual_Premium'] == 2630]\n",
    "outliers_df.head()"
   ]
  },
  {
   "cell_type": "code",
   "execution_count": 31,
   "id": "6cdc242e",
   "metadata": {},
   "outputs": [
    {
     "data": {
      "text/html": [
       "<div>\n",
       "<style scoped>\n",
       "    .dataframe tbody tr th:only-of-type {\n",
       "        vertical-align: middle;\n",
       "    }\n",
       "\n",
       "    .dataframe tbody tr th {\n",
       "        vertical-align: top;\n",
       "    }\n",
       "\n",
       "    .dataframe thead th {\n",
       "        text-align: right;\n",
       "    }\n",
       "</style>\n",
       "<table border=\"1\" class=\"dataframe\">\n",
       "  <thead>\n",
       "    <tr style=\"text-align: right;\">\n",
       "      <th></th>\n",
       "      <th>Age</th>\n",
       "      <th>Driving_License</th>\n",
       "      <th>Region_Code</th>\n",
       "      <th>Previously_Insured</th>\n",
       "      <th>Annual_Premium</th>\n",
       "      <th>Policy_Sales_Channel</th>\n",
       "      <th>Vintage</th>\n",
       "      <th>Response</th>\n",
       "    </tr>\n",
       "  </thead>\n",
       "  <tbody>\n",
       "    <tr>\n",
       "      <th>count</th>\n",
       "      <td>64877.000000</td>\n",
       "      <td>64877.000000</td>\n",
       "      <td>64877.000000</td>\n",
       "      <td>64877.000000</td>\n",
       "      <td>64877.0</td>\n",
       "      <td>64877.000000</td>\n",
       "      <td>64877.000000</td>\n",
       "      <td>64877.000000</td>\n",
       "    </tr>\n",
       "    <tr>\n",
       "      <th>mean</th>\n",
       "      <td>40.992678</td>\n",
       "      <td>0.998104</td>\n",
       "      <td>26.264177</td>\n",
       "      <td>0.361792</td>\n",
       "      <td>2630.0</td>\n",
       "      <td>113.896866</td>\n",
       "      <td>154.764323</td>\n",
       "      <td>0.131094</td>\n",
       "    </tr>\n",
       "    <tr>\n",
       "      <th>std</th>\n",
       "      <td>14.884384</td>\n",
       "      <td>0.043501</td>\n",
       "      <td>14.747260</td>\n",
       "      <td>0.480523</td>\n",
       "      <td>0.0</td>\n",
       "      <td>55.451527</td>\n",
       "      <td>83.634123</td>\n",
       "      <td>0.337506</td>\n",
       "    </tr>\n",
       "    <tr>\n",
       "      <th>min</th>\n",
       "      <td>20.000000</td>\n",
       "      <td>0.000000</td>\n",
       "      <td>0.000000</td>\n",
       "      <td>0.000000</td>\n",
       "      <td>2630.0</td>\n",
       "      <td>1.000000</td>\n",
       "      <td>10.000000</td>\n",
       "      <td>0.000000</td>\n",
       "    </tr>\n",
       "    <tr>\n",
       "      <th>25%</th>\n",
       "      <td>28.000000</td>\n",
       "      <td>1.000000</td>\n",
       "      <td>13.000000</td>\n",
       "      <td>0.000000</td>\n",
       "      <td>2630.0</td>\n",
       "      <td>30.000000</td>\n",
       "      <td>82.000000</td>\n",
       "      <td>0.000000</td>\n",
       "    </tr>\n",
       "    <tr>\n",
       "      <th>50%</th>\n",
       "      <td>40.000000</td>\n",
       "      <td>1.000000</td>\n",
       "      <td>28.000000</td>\n",
       "      <td>0.000000</td>\n",
       "      <td>2630.0</td>\n",
       "      <td>152.000000</td>\n",
       "      <td>155.000000</td>\n",
       "      <td>0.000000</td>\n",
       "    </tr>\n",
       "    <tr>\n",
       "      <th>75%</th>\n",
       "      <td>51.000000</td>\n",
       "      <td>1.000000</td>\n",
       "      <td>38.000000</td>\n",
       "      <td>1.000000</td>\n",
       "      <td>2630.0</td>\n",
       "      <td>156.000000</td>\n",
       "      <td>227.000000</td>\n",
       "      <td>0.000000</td>\n",
       "    </tr>\n",
       "    <tr>\n",
       "      <th>max</th>\n",
       "      <td>85.000000</td>\n",
       "      <td>1.000000</td>\n",
       "      <td>52.000000</td>\n",
       "      <td>1.000000</td>\n",
       "      <td>2630.0</td>\n",
       "      <td>163.000000</td>\n",
       "      <td>299.000000</td>\n",
       "      <td>1.000000</td>\n",
       "    </tr>\n",
       "  </tbody>\n",
       "</table>\n",
       "</div>"
      ],
      "text/plain": [
       "                Age  Driving_License   Region_Code  Previously_Insured  \\\n",
       "count  64877.000000     64877.000000  64877.000000        64877.000000   \n",
       "mean      40.992678         0.998104     26.264177            0.361792   \n",
       "std       14.884384         0.043501     14.747260            0.480523   \n",
       "min       20.000000         0.000000      0.000000            0.000000   \n",
       "25%       28.000000         1.000000     13.000000            0.000000   \n",
       "50%       40.000000         1.000000     28.000000            0.000000   \n",
       "75%       51.000000         1.000000     38.000000            1.000000   \n",
       "max       85.000000         1.000000     52.000000            1.000000   \n",
       "\n",
       "       Annual_Premium  Policy_Sales_Channel       Vintage      Response  \n",
       "count         64877.0          64877.000000  64877.000000  64877.000000  \n",
       "mean           2630.0            113.896866    154.764323      0.131094  \n",
       "std               0.0             55.451527     83.634123      0.337506  \n",
       "min            2630.0              1.000000     10.000000      0.000000  \n",
       "25%            2630.0             30.000000     82.000000      0.000000  \n",
       "50%            2630.0            152.000000    155.000000      0.000000  \n",
       "75%            2630.0            156.000000    227.000000      0.000000  \n",
       "max            2630.0            163.000000    299.000000      1.000000  "
      ]
     },
     "execution_count": 31,
     "metadata": {},
     "output_type": "execute_result"
    }
   ],
   "source": [
    "outliers_df.describe()"
   ]
  },
  {
   "cell_type": "markdown",
   "id": "95994ecc",
   "metadata": {},
   "source": [
    "There is no identifiable pattern to determine whether 2630 is an encoding for missing value, outlier, or the true value. For now, we will use it as it is. If the result is not convincing, we will treat it as missing value."
   ]
  },
  {
   "cell_type": "markdown",
   "id": "13d0eaf9",
   "metadata": {},
   "source": [
    "## Section 3: Data Preparation"
   ]
  },
  {
   "cell_type": "code",
   "execution_count": 32,
   "id": "8dea933e",
   "metadata": {},
   "outputs": [],
   "source": [
    "# Split the dataset into predictor and response variable\n",
    "X = df.drop('Response', axis=1)  # Predictor\n",
    "y = df['Response']  # Response"
   ]
  },
  {
   "cell_type": "code",
   "execution_count": 33,
   "id": "3bd4ddb2",
   "metadata": {},
   "outputs": [],
   "source": [
    "def preprocess_data(df=X):\n",
    "    '''\n",
    "    Preprocess data according to analysis from previous section and encode the categorical variables into dummies\n",
    "\n",
    "    INPUT:\n",
    "    df - dataframe to be processed\n",
    "\n",
    "    OUTPUT:\n",
    "    Processed data\n",
    "    '''\n",
    "\n",
    "    df = df.drop('Vintage', axis=1)  # Drop Vintage column\n",
    "\n",
    "    # Isolate categorical features except Driving_License and Previously_Insured\n",
    "    # (already encoded as dummies)\n",
    "    df_need_dummies = df[['Gender', 'Region_Code', 'Vehicle_Age',\n",
    "                          'Vehicle_Damage', 'Policy_Sales_Channel']].astype('category')\n",
    "    df_dummies = pd.get_dummies(df_need_dummies,\n",
    "                                prefix=['Gender', 'Region_Code', 'Vehicle_Age',\n",
    "                                        'Vehicle_Damage', 'Policy_Sales_Channel'],\n",
    "                                drop_first=True)\n",
    "\n",
    "    df_no_dummies = df[['Age', 'Driving_License',\n",
    "                        'Previously_Insured', 'Annual_Premium']]\n",
    "    # fill missing values (NaN) with column mean\n",
    "    df_no_dummies = df_no_dummies.apply(lambda col: col.fillna(col.mean()))\n",
    "\n",
    "    # Concat df_no_dummies and df_dummies along the columns\n",
    "    df_processed = pd.concat([df_no_dummies, df_dummies], axis=1)\n",
    "\n",
    "    return df_processed\n",
    "\n",
    "\n",
    "X_processed = preprocess_data(X)"
   ]
  },
  {
   "cell_type": "code",
   "execution_count": 34,
   "id": "e1d3a2d5",
   "metadata": {},
   "outputs": [],
   "source": [
    "# Split the data into train data and validation data\n",
    "# Use stratify argument to split the data proportionately based on response variable\n",
    "X_train, X_val, y_train, y_val = train_test_split(X_processed, y, test_size=0.25,\n",
    "                                                  random_state=40, stratify=y)"
   ]
  },
  {
   "cell_type": "markdown",
   "id": "2a26ff20",
   "metadata": {},
   "source": [
    "## Section 4: Data Modelling"
   ]
  },
  {
   "cell_type": "markdown",
   "id": "a818c5df",
   "metadata": {},
   "source": [
    "We will try 2 different machine learning models to classify whether customer is interested in the new vehicle insurance. The metrics to score the model are AUC-ROC (Area under ROC curve) and the precision and recall of the model. "
   ]
  },
  {
   "cell_type": "markdown",
   "id": "5e0480f9",
   "metadata": {},
   "source": [
    "### Logistic Regression"
   ]
  },
  {
   "cell_type": "code",
   "execution_count": 35,
   "id": "d498d8a4",
   "metadata": {},
   "outputs": [
    {
     "data": {
      "text/plain": [
       "Pipeline(steps=[('scaler', StandardScaler()),\n",
       "                ('logistic_reg',\n",
       "                 LogisticRegression(class_weight='balanced', n_jobs=-1))])"
      ]
     },
     "execution_count": 35,
     "metadata": {},
     "output_type": "execute_result"
    }
   ],
   "source": [
    "# Initiate and fit the model to the train data\n",
    "log_reg = Pipeline([('scaler', StandardScaler()),  # Normalize the feature \n",
    "                    ('logistic_reg', LogisticRegression(n_jobs=-1,\n",
    "                                                        class_weight='balanced'))])\n",
    "# Use class weight 'balanced' because there are signifcantly more customers that are not interested\n",
    "log_reg.fit(X_train, y_train)"
   ]
  },
  {
   "cell_type": "code",
   "execution_count": 36,
   "id": "951e6e9e",
   "metadata": {},
   "outputs": [
    {
     "data": {
      "text/plain": [
       "array([0.00104287, 0.711328  , 0.00420237, ..., 0.76426082, 0.7955584 ,\n",
       "       0.00306153])"
      ]
     },
     "execution_count": 36,
     "metadata": {},
     "output_type": "execute_result"
    }
   ],
   "source": [
    "# Predict the probability customer in validation data is interested\n",
    "y_pred_proba = log_reg.predict_proba(X_val)[:, 1]\n",
    "y_pred_proba"
   ]
  },
  {
   "cell_type": "code",
   "execution_count": 37,
   "id": "39056831",
   "metadata": {},
   "outputs": [
    {
     "name": "stdout",
     "output_type": "stream",
     "text": [
      "              precision    recall  f1-score   support\n",
      "\n",
      "           0       0.99      0.67      0.79     83600\n",
      "           1       0.28      0.94      0.43     11678\n",
      "\n",
      "    accuracy                           0.70     95278\n",
      "   macro avg       0.63      0.80      0.61     95278\n",
      "weighted avg       0.90      0.70      0.75     95278\n",
      "\n"
     ]
    }
   ],
   "source": [
    "# Calculate the predicted response and show the classification report\n",
    "y_pred = log_reg.predict(X_val)\n",
    "print(classification_report(y_val, y_pred))"
   ]
  },
  {
   "cell_type": "code",
   "execution_count": 38,
   "id": "35d6b71e",
   "metadata": {},
   "outputs": [
    {
     "name": "stdout",
     "output_type": "stream",
     "text": [
      "Precision:  0.28126365575919593\n",
      "Recall:  0.9369755095050523\n",
      "AUC-ROC score:  0.8012568935085069\n"
     ]
    }
   ],
   "source": [
    "# Create the confusion matrix\n",
    "conf_matrix = confusion_matrix(y_val, y_pred)\n",
    "(tn, fp, fn, tp) = conf_matrix.ravel()\n",
    "log_reg_precision = tp / (tp+fp)\n",
    "log_reg_recall = tp / (tp+fn)\n",
    "print('Precision: ', log_reg_precision)\n",
    "print('Recall: ', log_reg_recall)\n",
    "print('AUC-ROC score: ', roc_auc_score(y_val, y_pred))"
   ]
  },
  {
   "cell_type": "code",
   "execution_count": 39,
   "id": "b470e2b8",
   "metadata": {
    "scrolled": true
   },
   "outputs": [
    {
     "data": {
      "image/png": "[encoded data removed]",
      "text/plain": [
       "<Figure size 576x432 with 2 Axes>"
      ]
     },
     "metadata": {
      "needs_background": "light"
     },
     "output_type": "display_data"
    }
   ],
   "source": [
    "#Plot the confusion matrix\n",
    "labels = ('Not Interested', 'Interested')\n",
    "\n",
    "plt.figure(figsize = (8, 6))\n",
    "sns.heatmap(conf_matrix, annot=True, fmt='d',\n",
    "            xticklabels=labels, yticklabels=labels, \n",
    "            annot_kws={'size': 14})\n",
    "plt.yticks(rotation=0)\n",
    "plt.xlabel('Predicted Label')\n",
    "plt.ylabel('True Label')\n",
    "plt.title('Confusion Matrix', size=16);"
   ]
  },
  {
   "cell_type": "markdown",
   "id": "9ed5786b",
   "metadata": {},
   "source": [
    "With 0.8 AUC-ROC score, the logistic regression model is good enough. This model is also exceptional for predicting interested customers as shown by the 94% recall (target market will be wide enough to cover most of the interested customers). Although the precision is only 28% (28% of advertised customers is interested), it is acceptable because advertising to random customers will only get 12% precision (the proportion of interested customers in the dataset is approximately 12%)."
   ]
  },
  {
   "cell_type": "code",
   "execution_count": 40,
   "id": "1f1aa15a",
   "metadata": {},
   "outputs": [
    {
     "data": {
      "text/html": [
       "<div>\n",
       "<style scoped>\n",
       "    .dataframe tbody tr th:only-of-type {\n",
       "        vertical-align: middle;\n",
       "    }\n",
       "\n",
       "    .dataframe tbody tr th {\n",
       "        vertical-align: top;\n",
       "    }\n",
       "\n",
       "    .dataframe thead th {\n",
       "        text-align: right;\n",
       "    }\n",
       "</style>\n",
       "<table border=\"1\" class=\"dataframe\">\n",
       "  <thead>\n",
       "    <tr style=\"text-align: right;\">\n",
       "      <th></th>\n",
       "      <th>abs_coef</th>\n",
       "      <th>sign_coef</th>\n",
       "    </tr>\n",
       "  </thead>\n",
       "  <tbody>\n",
       "    <tr>\n",
       "      <th>Previously_Insured</th>\n",
       "      <td>1.949251</td>\n",
       "      <td>-1.0</td>\n",
       "    </tr>\n",
       "    <tr>\n",
       "      <th>Vehicle_Damage_Yes</th>\n",
       "      <td>0.985203</td>\n",
       "      <td>1.0</td>\n",
       "    </tr>\n",
       "    <tr>\n",
       "      <th>Policy_Sales_Channel_152.0</th>\n",
       "      <td>0.462138</td>\n",
       "      <td>-1.0</td>\n",
       "    </tr>\n",
       "    <tr>\n",
       "      <th>Policy_Sales_Channel_160.0</th>\n",
       "      <td>0.433010</td>\n",
       "      <td>-1.0</td>\n",
       "    </tr>\n",
       "    <tr>\n",
       "      <th>Age</th>\n",
       "      <td>0.419847</td>\n",
       "      <td>-1.0</td>\n",
       "    </tr>\n",
       "    <tr>\n",
       "      <th>Region_Code_28.0</th>\n",
       "      <td>0.394443</td>\n",
       "      <td>1.0</td>\n",
       "    </tr>\n",
       "    <tr>\n",
       "      <th>Region_Code_41.0</th>\n",
       "      <td>0.234296</td>\n",
       "      <td>1.0</td>\n",
       "    </tr>\n",
       "    <tr>\n",
       "      <th>Vehicle_Age_&lt; 1 Year</th>\n",
       "      <td>0.188749</td>\n",
       "      <td>-1.0</td>\n",
       "    </tr>\n",
       "    <tr>\n",
       "      <th>Region_Code_30.0</th>\n",
       "      <td>0.183880</td>\n",
       "      <td>1.0</td>\n",
       "    </tr>\n",
       "    <tr>\n",
       "      <th>Region_Code_11.0</th>\n",
       "      <td>0.182112</td>\n",
       "      <td>1.0</td>\n",
       "    </tr>\n",
       "    <tr>\n",
       "      <th>Region_Code_29.0</th>\n",
       "      <td>0.180240</td>\n",
       "      <td>1.0</td>\n",
       "    </tr>\n",
       "    <tr>\n",
       "      <th>Region_Code_8.0</th>\n",
       "      <td>0.166638</td>\n",
       "      <td>1.0</td>\n",
       "    </tr>\n",
       "    <tr>\n",
       "      <th>Region_Code_46.0</th>\n",
       "      <td>0.161290</td>\n",
       "      <td>1.0</td>\n",
       "    </tr>\n",
       "    <tr>\n",
       "      <th>Region_Code_3.0</th>\n",
       "      <td>0.149892</td>\n",
       "      <td>1.0</td>\n",
       "    </tr>\n",
       "    <tr>\n",
       "      <th>Region_Code_35.0</th>\n",
       "      <td>0.147467</td>\n",
       "      <td>1.0</td>\n",
       "    </tr>\n",
       "    <tr>\n",
       "      <th>Region_Code_18.0</th>\n",
       "      <td>0.140029</td>\n",
       "      <td>1.0</td>\n",
       "    </tr>\n",
       "    <tr>\n",
       "      <th>Region_Code_6.0</th>\n",
       "      <td>0.126990</td>\n",
       "      <td>1.0</td>\n",
       "    </tr>\n",
       "    <tr>\n",
       "      <th>Policy_Sales_Channel_26.0</th>\n",
       "      <td>0.119998</td>\n",
       "      <td>1.0</td>\n",
       "    </tr>\n",
       "    <tr>\n",
       "      <th>Policy_Sales_Channel_151.0</th>\n",
       "      <td>0.115927</td>\n",
       "      <td>-1.0</td>\n",
       "    </tr>\n",
       "    <tr>\n",
       "      <th>Region_Code_21.0</th>\n",
       "      <td>0.108468</td>\n",
       "      <td>1.0</td>\n",
       "    </tr>\n",
       "  </tbody>\n",
       "</table>\n",
       "</div>"
      ],
      "text/plain": [
       "                            abs_coef  sign_coef\n",
       "Previously_Insured          1.949251       -1.0\n",
       "Vehicle_Damage_Yes          0.985203        1.0\n",
       "Policy_Sales_Channel_152.0  0.462138       -1.0\n",
       "Policy_Sales_Channel_160.0  0.433010       -1.0\n",
       "Age                         0.419847       -1.0\n",
       "Region_Code_28.0            0.394443        1.0\n",
       "Region_Code_41.0            0.234296        1.0\n",
       "Vehicle_Age_< 1 Year        0.188749       -1.0\n",
       "Region_Code_30.0            0.183880        1.0\n",
       "Region_Code_11.0            0.182112        1.0\n",
       "Region_Code_29.0            0.180240        1.0\n",
       "Region_Code_8.0             0.166638        1.0\n",
       "Region_Code_46.0            0.161290        1.0\n",
       "Region_Code_3.0             0.149892        1.0\n",
       "Region_Code_35.0            0.147467        1.0\n",
       "Region_Code_18.0            0.140029        1.0\n",
       "Region_Code_6.0             0.126990        1.0\n",
       "Policy_Sales_Channel_26.0   0.119998        1.0\n",
       "Policy_Sales_Channel_151.0  0.115927       -1.0\n",
       "Region_Code_21.0            0.108468        1.0"
      ]
     },
     "execution_count": 40,
     "metadata": {},
     "output_type": "execute_result"
    }
   ],
   "source": [
    "# Create Regression Coefficient Data Frame\n",
    "reg_coef = log_reg['logistic_reg'].coef_[0]\n",
    "reg_coef_df = pd.DataFrame({'abs_coef': np.abs(reg_coef),\n",
    "                            'sign_coef': np.sign(reg_coef)},\n",
    "                           index=X_processed.columns)\n",
    "\n",
    "# Sort Data Frame based on absolute value of coefficient\n",
    "# We can compare the coefficient between variables because the data have been normalized\n",
    "reg_coef_df.sort_values('abs_coef', ascending=False).head(20)"
   ]
  },
  {
   "cell_type": "markdown",
   "id": "663be246",
   "metadata": {},
   "source": [
    "As we have analyzed in the previous section, `Previously_Insured` and `Vehicle_Damage` indicators are indeed the best predictor for customers' interests."
   ]
  },
  {
   "cell_type": "markdown",
   "id": "42f87bf1",
   "metadata": {},
   "source": [
    "### Random Forest Classifier"
   ]
  },
  {
   "cell_type": "code",
   "execution_count": 42,
   "id": "14e23dad",
   "metadata": {},
   "outputs": [
    {
     "data": {
      "text/plain": [
       "Pipeline(steps=[('scaler', StandardScaler()),\n",
       "                ('random_forest',\n",
       "                 RandomForestClassifier(class_weight='balanced',\n",
       "                                        n_estimators=300, n_jobs=-1))])"
      ]
     },
     "execution_count": 42,
     "metadata": {},
     "output_type": "execute_result"
    }
   ],
   "source": [
    "# Initiate and fit the model to the train data\n",
    "rf_classifier = Pipeline([('scaler', StandardScaler()),\n",
    "                          ('random_forest',\n",
    "                           RandomForestClassifier(n_estimators=300,\n",
    "                                                  n_jobs=-1,\n",
    "                                                  class_weight='balanced'))])\n",
    "rf_classifier.fit(X_train, y_train)"
   ]
  },
  {
   "cell_type": "code",
   "execution_count": 43,
   "id": "377bd8a7",
   "metadata": {},
   "outputs": [
    {
     "data": {
      "text/plain": [
       "array([0.        , 0.59      , 0.        , ..., 0.42333333, 0.27666667,\n",
       "       0.        ])"
      ]
     },
     "execution_count": 43,
     "metadata": {},
     "output_type": "execute_result"
    }
   ],
   "source": [
    "# Predict the probability customer in validation data is interested\n",
    "y_pred_proba = rf_classifier.predict_proba(X_val)[:, 1]\n",
    "y_pred_proba"
   ]
  },
  {
   "cell_type": "code",
   "execution_count": 44,
   "id": "6046054c",
   "metadata": {},
   "outputs": [
    {
     "name": "stdout",
     "output_type": "stream",
     "text": [
      "              precision    recall  f1-score   support\n",
      "\n",
      "           0       0.90      0.92      0.91     83600\n",
      "           1       0.32      0.26      0.29     11678\n",
      "\n",
      "    accuracy                           0.84     95278\n",
      "   macro avg       0.61      0.59      0.60     95278\n",
      "weighted avg       0.83      0.84      0.83     95278\n",
      "\n"
     ]
    }
   ],
   "source": [
    "# Calculate the predicted response and show the classification report\n",
    "y_pred = rf_classifier.predict(X_val)\n",
    "print(classification_report(y_val, y_pred))"
   ]
  },
  {
   "cell_type": "code",
   "execution_count": 47,
   "id": "3fc6dc98",
   "metadata": {},
   "outputs": [
    {
     "name": "stdout",
     "output_type": "stream",
     "text": [
      "Precision:  0.319353475596873\n",
      "Recall:  0.258862818975852\n",
      "AUC-ROC score:  0.5908967204927107\n"
     ]
    }
   ],
   "source": [
    "# Create the confusion matrix\n",
    "conf_matrix = confusion_matrix(y_val, y_pred)\n",
    "(tn, fp, fn, tp) = conf_matrix.ravel()\n",
    "rf_precision = tp / (tp+fp)\n",
    "rf_recall = tp / (tp+fn)\n",
    "print('Precision: ', rf_precision)\n",
    "print('Recall: ', rf_recall)\n",
    "print('AUC-ROC score: ', roc_auc_score(y_val, y_pred))"
   ]
  },
  {
   "cell_type": "code",
   "execution_count": 48,
   "id": "36083e1b",
   "metadata": {},
   "outputs": [
    {
     "data": {
      "image/png": "[encoded data removed]",
      "text/plain": [
       "<Figure size 432x288 with 2 Axes>"
      ]
     },
     "metadata": {
      "needs_background": "light"
     },
     "output_type": "display_data"
    }
   ],
   "source": [
    "#Plot the confusion matrix\n",
    "sns.heatmap(conf_matrix, annot=True, fmt='d',\n",
    "            xticklabels=labels, yticklabels=labels,\n",
    "            annot_kws={'size': 14})\n",
    "plt.yticks(rotation=0)\n",
    "plt.xlabel('Predicted Label')\n",
    "plt.ylabel('True Label')\n",
    "plt.title('Confusion Matrix', size=16);"
   ]
  },
  {
   "cell_type": "markdown",
   "id": "24868318",
   "metadata": {},
   "source": [
    "Even though the precision in this model is higher than the logistic regression model, the recall and AUC-ROC score is considerably lower, meaning that the target market is not large enough, as shown by the confusion matrix. Only 9500 customers will receive ads compared to around 38000 by using logistic regression. Therefore, we will use the logistic regression model to evaluate the results and build a prediction for the test dataset."
   ]
  },
  {
   "cell_type": "markdown",
   "id": "d022ab91",
   "metadata": {},
   "source": [
    "## Section 5: Evaluate the Results"
   ]
  },
  {
   "cell_type": "markdown",
   "id": "5b2a9f6a",
   "metadata": {},
   "source": [
    "### Question 1"
   ]
  },
  {
   "cell_type": "code",
   "execution_count": null,
   "id": "f615c48b",
   "metadata": {},
   "outputs": [],
   "source": []
  },
  {
   "cell_type": "markdown",
   "id": "7bac5e39",
   "metadata": {},
   "source": [
    "### Question 2"
   ]
  },
  {
   "cell_type": "code",
   "execution_count": null,
   "id": "6d89fecd",
   "metadata": {},
   "outputs": [],
   "source": []
  },
  {
   "cell_type": "markdown",
   "id": "cc1af4e3",
   "metadata": {},
   "source": [
    "### Question 3"
   ]
  },
  {
   "cell_type": "code",
   "execution_count": null,
   "id": "7f39b860",
   "metadata": {},
   "outputs": [],
   "source": []
  }
 ],
 "metadata": {
  "kernelspec": {
   "display_name": "Python 3",
   "language": "python",
   "name": "python3"
  },
  "language_info": {
   "codemirror_mode": {
    "name": "ipython",
    "version": 3
   },
   "file_extension": ".py",
   "mimetype": "text/x-python",
   "name": "python",
   "nbconvert_exporter": "python",
   "pygments_lexer": "ipython3",
   "version": "3.9.5"
  }
 },
 "nbformat": 4,
 "nbformat_minor": 5
}
