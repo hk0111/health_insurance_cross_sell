{
 "cells": [
  {
   "cell_type": "markdown",
   "id": "4c243266",
   "metadata": {},
   "source": [
    "# <center>Health Insurance Cross Sell Prediction</center>"
   ]
  },
  {
   "cell_type": "code",
   "execution_count": 1,
   "id": "4959522f",
   "metadata": {},
   "outputs": [],
   "source": [
    "import numpy as np\n",
    "import pandas as pd\n",
    "import matplotlib.pyplot as plt\n",
    "import seaborn as sns; sns.set()\n",
    "import tensorflow as tf\n",
    "import tensorflow.keras as keras\n",
    "from sklearn.model_selection import train_test_split\n",
    "from sklearn.metrics import roc_auc_score\n",
    "\n",
    "%matplotlib inline"
   ]
  },
  {
   "cell_type": "markdown",
   "id": "e3162f90",
   "metadata": {},
   "source": [
    "## Section 1: Business Understanding"
   ]
  },
  {
   "cell_type": "markdown",
   "id": "f99f95e4",
   "metadata": {},
   "source": [
    "An insurance company that has provided Health Insurance Products to its customer wants to expand its business to Vehicle Insurance. It needs to build a model to predict whether customers from the past year are interested in its new Vehicle Insurance Products. First, we will analyze how some variables are related to customers' interests. Then, we will build a machine learning model to classify whether a customer is interested."
   ]
  },
  {
   "cell_type": "markdown",
   "id": "2c3a8435",
   "metadata": {},
   "source": [
    "### Question 1: How do 'Previously Insured' and 'Vehicle Damage' indicators correlate with customer's interest in this new vehicle insurance?"
   ]
  },
  {
   "cell_type": "markdown",
   "id": "4ce77600",
   "metadata": {},
   "source": [
    "### Question 2: Is there any correlation between the customer's vehicle age and the 'Vehicle Damage' indicator?"
   ]
  },
  {
   "cell_type": "markdown",
   "id": "d2aaac65",
   "metadata": {},
   "source": [
    "### Question 3: Are older customers more interested in vehicle insurance than newer customers?"
   ]
  },
  {
   "cell_type": "markdown",
   "id": "7adb82fe",
   "metadata": {},
   "source": [
    "### Question 4: How well we can predict customers' interests based on other information?"
   ]
  },
  {
   "cell_type": "markdown",
   "id": "a6508a7f",
   "metadata": {},
   "source": [
    "- 'Previously Insured' -> whether the customer already has Vehicle Insurance from another company\n",
    "- 'Vehicle Damage' -> wheter customer got his/her vehicle damaged in the past"
   ]
  },
  {
   "cell_type": "markdown",
   "id": "75ed34f0",
   "metadata": {},
   "source": [
    "## Section 2: Data Understanding"
   ]
  },
  {
   "cell_type": "code",
   "execution_count": null,
   "id": "6b25f508",
   "metadata": {},
   "outputs": [],
   "source": []
  },
  {
   "cell_type": "markdown",
   "id": "5cfb59da",
   "metadata": {},
   "source": [
    "## Section 3: Data Preparation"
   ]
  },
  {
   "cell_type": "code",
   "execution_count": null,
   "id": "8cbc1150",
   "metadata": {},
   "outputs": [],
   "source": []
  },
  {
   "cell_type": "markdown",
   "id": "7a566e76",
   "metadata": {},
   "source": [
    "## Section 4: Data Modelling"
   ]
  },
  {
   "cell_type": "code",
   "execution_count": null,
   "id": "4483fc10",
   "metadata": {},
   "outputs": [],
   "source": []
  },
  {
   "cell_type": "markdown",
   "id": "4ef5ad9c",
   "metadata": {},
   "source": [
    "## Section 5: Evaluate the Results"
   ]
  },
  {
   "cell_type": "markdown",
   "id": "0235914d",
   "metadata": {},
   "source": [
    "### Question 1"
   ]
  },
  {
   "cell_type": "code",
   "execution_count": null,
   "id": "2d560e29",
   "metadata": {},
   "outputs": [],
   "source": []
  },
  {
   "cell_type": "markdown",
   "id": "b193770a",
   "metadata": {},
   "source": [
    "### Question 2"
   ]
  },
  {
   "cell_type": "code",
   "execution_count": null,
   "id": "a3b21f5b",
   "metadata": {},
   "outputs": [],
   "source": []
  },
  {
   "cell_type": "markdown",
   "id": "e705c2c4",
   "metadata": {},
   "source": [
    "### Question 3"
   ]
  },
  {
   "cell_type": "code",
   "execution_count": null,
   "id": "1b7675b3",
   "metadata": {},
   "outputs": [],
   "source": []
  },
  {
   "cell_type": "markdown",
   "id": "7e34bedd",
   "metadata": {},
   "source": [
    "### Question 4"
   ]
  },
  {
   "cell_type": "code",
   "execution_count": null,
   "id": "f63cd8d5",
   "metadata": {},
   "outputs": [],
   "source": []
  }
 ],
 "metadata": {
  "kernelspec": {
   "display_name": "Python 3",
   "language": "python",
   "name": "python3"
  },
  "language_info": {
   "codemirror_mode": {
    "name": "ipython",
    "version": 3
   },
   "file_extension": ".py",
   "mimetype": "text/x-python",
   "name": "python",
   "nbconvert_exporter": "python",
   "pygments_lexer": "ipython3",
   "version": "3.9.5"
  }
 },
 "nbformat": 4,
 "nbformat_minor": 5
}
